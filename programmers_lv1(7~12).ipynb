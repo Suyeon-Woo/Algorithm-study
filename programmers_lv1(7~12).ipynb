{
  "nbformat": 4,
  "nbformat_minor": 0,
  "metadata": {
    "kernelspec": {
      "display_name": "Python 3",
      "language": "python",
      "name": "python3"
    },
    "language_info": {
      "codemirror_mode": {
        "name": "ipython",
        "version": 3
      },
      "file_extension": ".py",
      "mimetype": "text/x-python",
      "name": "python",
      "nbconvert_exporter": "python",
      "pygments_lexer": "ipython3",
      "version": "3.6.5"
    },
    "colab": {
      "name": "programmers_lv1(7~12).ipynb",
      "provenance": []
    }
  },
  "cells": [
    {
      "cell_type": "markdown",
      "metadata": {
        "id": "o9IbwCA1qfxL",
        "colab_type": "text"
      },
      "source": [
        "# 2016년 요일 구하기"
      ]
    },
    {
      "cell_type": "code",
      "metadata": {
        "id": "jIYrWsQIqfxO",
        "colab_type": "code",
        "colab": {}
      },
      "source": [
        "def solution(a, b):\n",
        "    answer = ''\n",
        "    return answer"
      ],
      "execution_count": null,
      "outputs": []
    },
    {
      "cell_type": "code",
      "metadata": {
        "id": "Q9hOpC7yqfxe",
        "colab_type": "code",
        "colab": {}
      },
      "source": [
        "#나머지를 활용\n",
        "def solution(a, b):\n",
        "    day = [\"THU\",\"FRI\",\"SAT\",\"SUN\",\"MON\",\"TUE\",\"WED\"]          #1월1일이 금요일이므로 7로 나눴을 때 인덱스 1이 금요일로 나오게 배열을 설정\n",
        "    mon = [31, 29, 31, 30, 31, 30 , 31, 31, 30, 31, 30, 31]   #각 달의 날짜만큼 배열로 저장\n",
        "    \n",
        "    return day[(sum(mon[:a-1]) + b) % 7] "
      ],
      "execution_count": null,
      "outputs": []
    },
    {
      "cell_type": "code",
      "metadata": {
        "id": "8JAHRaXhqfxp",
        "colab_type": "code",
        "colab": {}
      },
      "source": [
        "#datetime 함수 활용\n",
        "import datetime\n",
        "\n",
        "def solution(a,b):\n",
        "    t = 'MON TUE WED THU FRI SAT SUN'.split()\n",
        "    return t[datetime.datetime(2016, a, b).weekday()]"
      ],
      "execution_count": null,
      "outputs": []
    },
    {
      "cell_type": "markdown",
      "metadata": {
        "id": "LgGG4Zu6qfxw",
        "colab_type": "text"
      },
      "source": [
        "# 가운데 글자 가져오기"
      ]
    },
    {
      "cell_type": "markdown",
      "metadata": {
        "id": "eTSDjFYsqfxx",
        "colab_type": "text"
      },
      "source": [
        "단어 s의 가운데 글자를 반환하는 함수, solution을 만들어 보세요. 단어의 길이가 짝수라면 가운데 두글자를 반환하면 됩니다.\n",
        "\n",
        "재한사항 : s는 길이가 1 이상, 100이하인 스트링입니다."
      ]
    },
    {
      "cell_type": "code",
      "metadata": {
        "id": "QWiSQuvXqfxy",
        "colab_type": "code",
        "colab": {}
      },
      "source": [
        "def solution(s):\n",
        "    answer = ''\n",
        "    length=len(s)\n",
        "    if length%2==0:\n",
        "        answer=s[length//2-1:length//2+1]\n",
        "    elif length%2==1:\n",
        "        answer=s[length//2]\n",
        "    return answer"
      ],
      "execution_count": null,
      "outputs": []
    },
    {
      "cell_type": "code",
      "metadata": {
        "id": "svyKUqhTqfx5",
        "colab_type": "code",
        "colab": {},
        "outputId": "cc808567-bef9-44f4-8800-ac1310996b6e"
      },
      "source": [
        "s = \"qwer\"\n",
        "solution(s)"
      ],
      "execution_count": null,
      "outputs": [
        {
          "output_type": "execute_result",
          "data": {
            "text/plain": [
              "'we'"
            ]
          },
          "metadata": {
            "tags": []
          },
          "execution_count": 24
        }
      ]
    },
    {
      "cell_type": "markdown",
      "metadata": {
        "id": "95iS6E6pqfx_",
        "colab_type": "text"
      },
      "source": [
        "# 같은 숫자는 싫어"
      ]
    },
    {
      "cell_type": "markdown",
      "metadata": {
        "id": "wyVYWY1FqfyA",
        "colab_type": "text"
      },
      "source": [
        "배열 arr가 주어집니다. 배열 arr의 각 원소는 숫자 0부터 9까지로 이루어져 있습니다. \n",
        "\n",
        "이때, 배열 arr에서 연속적으로 나타나는 숫자는 하나만 남기고 전부 제거하려고 합니다. \n",
        "\n",
        "단, 제거된 후 남은 수들을 반환할 때는 배열 arr의 원소들의 순서를 유지해야 합니다. \n",
        "\n",
        "배열 arr에서 연속적으로 나타나는 숫자는 제거하고 남은 수들을 return 하는 solution 함수를 완성해 주세요."
      ]
    },
    {
      "cell_type": "code",
      "metadata": {
        "id": "jC6Rx6vMqfyB",
        "colab_type": "code",
        "colab": {}
      },
      "source": [
        "arr = [1,1,3,3,0,1,1]"
      ],
      "execution_count": null,
      "outputs": []
    },
    {
      "cell_type": "code",
      "metadata": {
        "id": "yAOxw0HlqfyG",
        "colab_type": "code",
        "colab": {}
      },
      "source": [
        "# array를 훼손하면 안되나 싶어서 arr1로 복제해서 해봤는데\n",
        "# 여기서는 잘 나오지만 프로그래머스 케이스 통과가 안됨.\n",
        "# 원래 인덱스가 아니라 업데이트 된 인덱스로 for문을 돌아서 안된다. \n",
        "def solution(arr):\n",
        "    arr1 = arr \n",
        "    answer = []\n",
        "    for i in range(len(arr1)-1):\n",
        "        if arr1[i]==arr1[i+1]:\n",
        "            arr1.pop(i+1)\n",
        "            answer+arr1\n",
        "    return answer"
      ],
      "execution_count": null,
      "outputs": []
    },
    {
      "cell_type": "code",
      "metadata": {
        "id": "BlBV6Nctxt13",
        "colab_type": "code",
        "colab": {}
      },
      "source": [
        "def solution(arr):\n",
        "    answer = []\n",
        "    len_arr = len(arr)\n",
        "\n",
        "    for i in range(1,len_arr-1):\n",
        "        if arr[i-1]!=arr[i]:\n",
        "            answer.append(arr[i-1])\n",
        "            \n",
        "    if arr[-1]==arr[-2]:\n",
        "        answer.append(arr[-1])\n",
        "    else :\n",
        "      answer.extend(arr[-2:])\n",
        "     \n",
        "      return answer"
      ],
      "execution_count": 16,
      "outputs": []
    },
    {
      "cell_type": "code",
      "metadata": {
        "id": "peOYnLFZyFg0",
        "colab_type": "code",
        "colab": {
          "base_uri": "https://localhost:8080/",
          "height": 125
        },
        "outputId": "317e0ba8-b0e2-4982-dea8-b68acf5aa652"
      },
      "source": [
        "arr = [1,1,3,3,0,1,2]\n",
        "solution(arr)"
      ],
      "execution_count": 17,
      "outputs": [
        {
          "output_type": "stream",
          "text": [
            "1 1\n",
            "1 3\n",
            "3 3\n",
            "3 0\n",
            "0 1\n"
          ],
          "name": "stdout"
        },
        {
          "output_type": "execute_result",
          "data": {
            "text/plain": [
              "[1, 3, 0, 1, 2]"
            ]
          },
          "metadata": {
            "tags": []
          },
          "execution_count": 17
        }
      ]
    },
    {
      "cell_type": "code",
      "metadata": {
        "id": "BFe3neCOqfyO",
        "colab_type": "code",
        "colab": {}
      },
      "source": [
        "#정답 코드\n",
        "def solution(arr):\n",
        "    answer=[]\n",
        "    answer.append(arr[0])\n",
        "    for i in range(1,len(arr)):\n",
        "        if arr[i] != arr[i-1]:\n",
        "            answer.append(arr[i])\n",
        "    return answer"
      ],
      "execution_count": null,
      "outputs": []
    },
    {
      "cell_type": "code",
      "metadata": {
        "id": "s2S49N0SqfyU",
        "colab_type": "code",
        "colab": {},
        "outputId": "dc6aff2c-0c2b-416a-a099-1d018fa1a975"
      },
      "source": [
        "solution(arr)"
      ],
      "execution_count": null,
      "outputs": [
        {
          "output_type": "execute_result",
          "data": {
            "text/plain": [
              "[1, 3, 0, 1]"
            ]
          },
          "metadata": {
            "tags": []
          },
          "execution_count": 94
        }
      ]
    },
    {
      "cell_type": "markdown",
      "metadata": {
        "id": "Yb6N2krnqfya",
        "colab_type": "text"
      },
      "source": [
        "# 나누어 떨어지는 숫자 배열"
      ]
    },
    {
      "cell_type": "markdown",
      "metadata": {
        "id": "-LBUQPbcqfyb",
        "colab_type": "text"
      },
      "source": [
        "array의 각 element 중 divisor로 나누어 떨어지는 값을 오름차순으로 정렬한 배열을 반환하는 함수, solution을 작성해주세요.\n",
        "\n",
        "divisor로 나누어 떨어지는 element가 하나도 없다면 배열에 -1을 담아 반환하세요."
      ]
    },
    {
      "cell_type": "code",
      "metadata": {
        "id": "TBnj27-3qfyc",
        "colab_type": "code",
        "colab": {}
      },
      "source": [
        "#테스트케이스는 모두 통과\n",
        "def solution(arr, divisor):\n",
        "    answer = []\n",
        "    for i in arr:\n",
        "        if i%divisor==0:\n",
        "            answer.append(i)\n",
        "            answer.sort()\n",
        "    if not answer:               #answer가 null이면\n",
        "          answer.append(-1)\n",
        "    return answer"
      ],
      "execution_count": null,
      "outputs": []
    },
    {
      "cell_type": "markdown",
      "metadata": {
        "id": "SVDLOvlCqfyh",
        "colab_type": "text"
      },
      "source": [
        "# 두 정수 사이의 합"
      ]
    },
    {
      "cell_type": "markdown",
      "metadata": {
        "id": "mCDY5O0Wqfyi",
        "colab_type": "text"
      },
      "source": [
        "두 정수 a, b가 주어졌을 때 a와 b 사이에 속한 모든 정수의 합을 리턴하는 함수, solution을 완성하세요.\n",
        "\n",
        "예를 들어 a = 3, b = 5인 경우, 3 + 4 + 5 = 12이므로 12를 리턴합니다."
      ]
    },
    {
      "cell_type": "code",
      "metadata": {
        "id": "J-HNMSN1qfyj",
        "colab_type": "code",
        "colab": {}
      },
      "source": [
        "def solution(a, b):\n",
        "    answer = 0\n",
        "    if a>b : a,b = b,a\n",
        "    num = list(range(a,b+1))\n",
        "    answer=sum(num)\n",
        "    return answer"
      ],
      "execution_count": null,
      "outputs": []
    },
    {
      "cell_type": "code",
      "metadata": {
        "id": "xWrv5VjUqfyo",
        "colab_type": "code",
        "colab": {},
        "outputId": "18258783-3872-41cf-a2e6-47bbe0b63fac"
      },
      "source": [
        "a=5\n",
        "b=3\n",
        "solution(a,b)"
      ],
      "execution_count": null,
      "outputs": [
        {
          "output_type": "execute_result",
          "data": {
            "text/plain": [
              "12"
            ]
          },
          "metadata": {
            "tags": []
          },
          "execution_count": 113
        }
      ]
    },
    {
      "cell_type": "markdown",
      "metadata": {
        "id": "utCSn7PBqfyt",
        "colab_type": "text"
      },
      "source": [
        "# 문자열 내 마음대로 정렬하기"
      ]
    },
    {
      "cell_type": "markdown",
      "metadata": {
        "id": "Xab8eoxXqfyu",
        "colab_type": "text"
      },
      "source": [
        "문자열로 구성된 리스트 strings와, 정수 n이 주어졌을 때, 각 문자열의 인덱스 n번째 글자를 기준으로 오름차순 정렬하려 합니다. \n",
        "\n",
        "예를 들어 strings가 [sun, bed, car]이고 n이 1이면 각 단어의 인덱스 1의 문자 u, e, a로 strings를 정렬합니다."
      ]
    },
    {
      "cell_type": "code",
      "metadata": {
        "id": "3qKNO23pqfyv",
        "colab_type": "code",
        "colab": {}
      },
      "source": [
        "#이렇게 하면 n번째 인덱스가 같은 string이 정렬이 안되는 오류가 생김.\n",
        "def solution(strings, n):\n",
        "    answer = []\n",
        "    answer=sorted(strings,key=lambda x : x[n])\n",
        "    return answer"
      ],
      "execution_count": null,
      "outputs": []
    },
    {
      "cell_type": "markdown",
      "metadata": {
        "id": "IY4Ii_PAqfyz",
        "colab_type": "text"
      },
      "source": [
        "입력값 〉\t[\"abce\", \"abcd\", \"cdx\"], 2\n",
        "\n",
        "기댓값 〉\t[\"abcd\", \"abce\", \"cdx\"]\n",
        "\n",
        "실행 결과 〉\t실행한 결괏값 [\"abce\",\"abcd\",\"cdx\"]이(가) 기댓값 [\"abcd\",\"abce\",\"cdx\"]와(과) 다릅니다."
      ]
    },
    {
      "cell_type": "code",
      "metadata": {
        "id": "QQMFXluvqfy0",
        "colab_type": "code",
        "colab": {},
        "outputId": "132f16e5-c31f-4d88-c8bd-33b32914808a"
      },
      "source": [
        "\"a\">\"b\""
      ],
      "execution_count": null,
      "outputs": [
        {
          "output_type": "execute_result",
          "data": {
            "text/plain": [
              "False"
            ]
          },
          "metadata": {
            "tags": []
          },
          "execution_count": 120
        }
      ]
    },
    {
      "cell_type": "code",
      "metadata": {
        "id": "61RKqlAhqfy4",
        "colab_type": "code",
        "colab": {}
      },
      "source": [
        "#정답 : sort 한번 더 해주면 됨..\n",
        "def solution(strings, n):\n",
        "    return sorted(sorted(strings), key=lambda x: x[n])"
      ],
      "execution_count": null,
      "outputs": []
    },
    {
      "cell_type": "code",
      "metadata": {
        "id": "o_UxPvvV57CW",
        "colab_type": "code",
        "colab": {}
      },
      "source": [
        "def solution(strings, n):\n",
        "    # first_key = [i[n] for i in strings]\n",
        "    answer = sorted(strings, key=lambda x : (x[n],x))\n",
        "    return answer"
      ],
      "execution_count": null,
      "outputs": []
    },
    {
      "cell_type": "code",
      "metadata": {
        "id": "tHxDJKH2suUU",
        "colab_type": "code",
        "colab": {}
      },
      "source": [
        "# numpy,pandas는 쓸 수 없음.\n",
        "# collections, itertools 쓰면 좋음."
      ],
      "execution_count": null,
      "outputs": []
    }
  ]
}