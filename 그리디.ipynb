{
  "nbformat": 4,
  "nbformat_minor": 0,
  "metadata": {
    "colab": {
      "name": "그리디.ipynb",
      "provenance": [],
      "authorship_tag": "ABX9TyPT8HgYuucSrrK6pOul4G2E",
      "include_colab_link": true
    },
    "kernelspec": {
      "name": "python3",
      "display_name": "Python 3"
    }
  },
  "cells": [
    {
      "cell_type": "markdown",
      "metadata": {
        "id": "view-in-github",
        "colab_type": "text"
      },
      "source": [
        "<a href=\"https://colab.research.google.com/github/Suyeon-Woo/Algorithm-study/blob/master/%EA%B7%B8%EB%A6%AC%EB%94%94.ipynb\" target=\"_parent\"><img src=\"https://colab.research.google.com/assets/colab-badge.svg\" alt=\"Open In Colab\"/></a>"
      ]
    },
    {
      "cell_type": "markdown",
      "metadata": {
        "id": "y2Yk1BRQfc91",
        "colab_type": "text"
      },
      "source": [
        " \n",
        "#그리디\n",
        "\n",
        "* 현재 상황에서 가장 좋아 보이는 것만을 선택하는 알고리즘\n",
        "\n",
        "* 대체로 기준이 정렬 알고리즘을 사용할 때 만족시킬 수 있어, 그리디 알고리즘 문제는 자주 정렬 알고리즘과 짝을 이뤄 출제된다."
      ]
    },
    {
      "cell_type": "markdown",
      "metadata": {
        "id": "1g5m2aVUgADT",
        "colab_type": "text"
      },
      "source": [
        "예제 1. 거스름돈\n",
        "\n",
        "카운터에는 거스름돈으로 사용할 500원, 100원, 50원, 10원짜리 동전히 무한히 존재한다고 가정한다.\n",
        "\n",
        "손님에게 거슬러 줘야할 돈이 N원일 때 거슬러줘야 할 동전의 최소 개수를 구하라.\n",
        "\n",
        "단, 거슬러 줘야 할 돈 N은 항상 10의 배수이다."
      ]
    },
    {
      "cell_type": "code",
      "metadata": {
        "id": "M3q0XbLpfxCF",
        "colab_type": "code",
        "colab": {
          "base_uri": "https://localhost:8080/",
          "height": 53
        },
        "outputId": "6c3b955b-702c-4d71-ca36-a9004d5c8f1c"
      },
      "source": [
        "N = int(input())\n",
        "count = 0\n",
        "\n",
        "list = [500,100,50,10]\n",
        "\n",
        "for coin in list:\n",
        "  count += N//coin              # 리스트에 있는 화폐로 거슬러 줄 수 있는 횟수를 세기\n",
        "  N %= coin                     # N에 거슬러 주고 남은 돈을 넣기.\n",
        "\n",
        "print(count)"
      ],
      "execution_count": 1,
      "outputs": [
        {
          "output_type": "stream",
          "text": [
            "1260\n",
            "6\n"
          ],
          "name": "stdout"
        }
      ]
    },
    {
      "cell_type": "markdown",
      "metadata": {
        "id": "XlOkEK10h5wp",
        "colab_type": "text"
      },
      "source": [
        "그리디 알고리즘의 정당성\n",
        "\n",
        "* 탐욕적으로 문제에 접근할 때 정확한 답을 찾을 수 있다는 보장이 있을 때 매우 효과적, 직관적\n",
        "* 그리디 알고리즘 문제에서는 이처럼 문제 풀이를 위한 최소한의 아이디어를 떠올리고 이것이 정당한지 검토해야함. \n",
        "\n",
        "어떤 코딩 테스트 문제를 만났을 때, 바로 문제 유형을 파악하기 어렵다면 그리디 알고리즘을 의심해보자."
      ]
    },
    {
      "cell_type": "markdown",
      "metadata": {
        "id": "_xB1wBhijKQy",
        "colab_type": "text"
      },
      "source": [
        "---------------------------------------------------------------------------------------------------\n",
        "예제 2-1. 큰수의 법칙\n",
        "\n",
        "다양한 수로 이루어진 배열이 있을 때 주어진 수들을 M번 더하여 가장 큰 수를 만드는 법칙이다.\n",
        "\n",
        "단, 배열의 특정한 인덱스에 해당하는 수가 연속해서 K번을 초과하여 더해질 수 없는 것이 이 법칙의 특징이다.\n",
        "\n",
        "예를들어 순서대로 2,4,5,4,6 으로 이루어진 배열이 있을 때 M이 8이고, K가 3이라고 가정하자. K=3이므로 큰수의 법칙에 따른 결과는 6+6+6+5+6+6+6+5인 46이다.\n",
        "\n",
        "*단, 서로다른 인덱스에 있는 수가 같은 경우에도 서로 다른 것으로 간주한다.\n",
        "\n",
        "* 배열의 크기 N, 숫자가 더해지는 횟수 M, 그리고 K가 주어질 때 위에 제시한 법칙에 따른 결과를 출력하시오."
      ]
    },
    {
      "cell_type": "code",
      "metadata": {
        "id": "_g0yhu7ZhvbR",
        "colab_type": "code",
        "colab": {
          "base_uri": "https://localhost:8080/",
          "height": 280
        },
        "outputId": "888f3c0e-f370-4595-e05b-b3c855f0b726"
      },
      "source": [
        "import numpy as np\n",
        "import pandas as pd\n",
        "\n",
        "N,M,K = map(int,input().split())\n",
        "num = list(map(int,input().split()))\n",
        "\n",
        "#순서대로 배열해서 첫번째로 큰 수와 두번째로 큰 수를 조합하면 된다.\n",
        "\n",
        "num = num.sort(reverse=True)         #내림차순 정렬\n",
        "                                     #큰수를 M번 작은수 1번을 K일 때까지 더한다\n",
        "first = num[0]\n",
        "second = num[1]\n",
        "sum = 0\n",
        "\n",
        "while True:\n",
        "  for i in range(K):\n",
        "    if M==0:\n",
        "      break\n",
        "    sum += first\n",
        "    M -= 1\n",
        "  if M==0:\n",
        "    break\n",
        "  sum += second\n",
        "  M -= 1\n",
        "\n",
        "print(sum)"
      ],
      "execution_count": 1,
      "outputs": [
        {
          "output_type": "stream",
          "text": [
            "5 8 3\n",
            "2 4 5 4 6\n"
          ],
          "name": "stdout"
        },
        {
          "output_type": "error",
          "ename": "TypeError",
          "evalue": "ignored",
          "traceback": [
            "\u001b[0;31m---------------------------------------------------------------------------\u001b[0m",
            "\u001b[0;31mTypeError\u001b[0m                                 Traceback (most recent call last)",
            "\u001b[0;32m<ipython-input-1-96e316a8221a>\u001b[0m in \u001b[0;36m<module>\u001b[0;34m()\u001b[0m\n\u001b[1;32m      9\u001b[0m \u001b[0mnum\u001b[0m \u001b[0;34m=\u001b[0m \u001b[0mnum\u001b[0m\u001b[0;34m.\u001b[0m\u001b[0msort\u001b[0m\u001b[0;34m(\u001b[0m\u001b[0mreverse\u001b[0m\u001b[0;34m=\u001b[0m\u001b[0;32mTrue\u001b[0m\u001b[0;34m)\u001b[0m         \u001b[0;31m#내림차순 정렬\u001b[0m\u001b[0;34m\u001b[0m\u001b[0;34m\u001b[0m\u001b[0m\n\u001b[1;32m     10\u001b[0m                                      \u001b[0;31m#큰수를 M번 작은수 1번을 K일 때까지 더한다\u001b[0m\u001b[0;34m\u001b[0m\u001b[0;34m\u001b[0m\u001b[0;34m\u001b[0m\u001b[0m\n\u001b[0;32m---> 11\u001b[0;31m \u001b[0mfirst\u001b[0m \u001b[0;34m=\u001b[0m \u001b[0mnum\u001b[0m\u001b[0;34m[\u001b[0m\u001b[0;36m0\u001b[0m\u001b[0;34m]\u001b[0m\u001b[0;34m\u001b[0m\u001b[0;34m\u001b[0m\u001b[0m\n\u001b[0m\u001b[1;32m     12\u001b[0m \u001b[0msecond\u001b[0m \u001b[0;34m=\u001b[0m \u001b[0mnum\u001b[0m\u001b[0;34m[\u001b[0m\u001b[0;36m1\u001b[0m\u001b[0;34m]\u001b[0m\u001b[0;34m\u001b[0m\u001b[0;34m\u001b[0m\u001b[0m\n\u001b[1;32m     13\u001b[0m \u001b[0msum\u001b[0m \u001b[0;34m=\u001b[0m \u001b[0;36m0\u001b[0m\u001b[0;34m\u001b[0m\u001b[0;34m\u001b[0m\u001b[0m\n",
            "\u001b[0;31mTypeError\u001b[0m: 'NoneType' object is not subscriptable"
          ]
        }
      ]
    },
    {
      "cell_type": "code",
      "metadata": {
        "id": "ZRcqmeJkkPFI",
        "colab_type": "code",
        "colab": {}
      },
      "source": [
        ""
      ],
      "execution_count": null,
      "outputs": []
    }
  ]
}