{
 "cells": [
  {
   "cell_type": "markdown",
   "metadata": {},
   "source": [
    "프로그래머스 level1."
   ]
  },
  {
   "cell_type": "markdown",
   "metadata": {},
   "source": [
    "1. 두 개 뽑아서 더하기"
   ]
  },
  {
   "cell_type": "code",
   "execution_count": null,
   "metadata": {},
   "outputs": [],
   "source": [
    "def solution(numbers):\n",
    "    answer = []\n",
    "    n = len(numbers)\n",
    "    numbers.sort()\n",
    "    for i in range(n-1):\n",
    "        for j in range(i+1,n):\n",
    "            a=numbers[i]+numbers[j]\n",
    "            answer=[a]\n",
    "        return answer"
   ]
  },
  {
   "cell_type": "code",
   "execution_count": 108,
   "metadata": {},
   "outputs": [
    {
     "data": {
      "text/plain": [
       "[5]"
      ]
     },
     "execution_count": 108,
     "metadata": {},
     "output_type": "execute_result"
    }
   ],
   "source": [
    "numbers = [2,1,3,4,1]\n",
    "solution(numbers) "
   ]
  },
  {
   "cell_type": "code",
   "execution_count": null,
   "metadata": {},
   "outputs": [],
   "source": [
    "# 왜 1,4더한것만 나올까..."
   ]
  },
  {
   "cell_type": "markdown",
   "metadata": {},
   "source": [
    "3. 완주하지 못한 선수\n",
    "\n",
    "   참가목록에는 있는데 완주목록에는 없는 선수 찾기"
   ]
  },
  {
   "cell_type": "code",
   "execution_count": 116,
   "metadata": {},
   "outputs": [],
   "source": [
    "def solution(participant, completion):\n",
    "    participant.sort()\n",
    "    completion.sort()\n",
    "    for p,c in zip(participant,completion):\n",
    "        if p!=c:\n",
    "            return p\n",
    "    return participant[-1]"
   ]
  },
  {
   "cell_type": "code",
   "execution_count": 119,
   "metadata": {},
   "outputs": [
    {
     "data": {
      "text/plain": [
       "'d'"
      ]
     },
     "execution_count": 119,
     "metadata": {},
     "output_type": "execute_result"
    }
   ],
   "source": [
    "participant=['a','b','c','d']\n",
    "completion=['a','b','c']\n",
    "solution(participant,completion)"
   ]
  },
  {
   "cell_type": "code",
   "execution_count": 123,
   "metadata": {},
   "outputs": [],
   "source": [
    "# zip은 두 리스트를 묶어서 비교해준다. 참가자와 완주자를 비교하는데, 정렬해서 비교했을 때 다르면 리턴해주는 경우와,\n",
    "# 참가자가 완주자보다 항상 하나더 많기 때문에 마지막 참가자가 완주하지 않았을 경우를 생각해 participant[-1]을 해준것이다."
   ]
  },
  {
   "cell_type": "markdown",
   "metadata": {},
   "source": [
    "5. K번째 수"
   ]
  },
  {
   "cell_type": "code",
   "execution_count": null,
   "metadata": {},
   "outputs": [],
   "source": [
    "# i번째부터 j번째 숫자까지 자르고 정렬했을 때 K번째에 있는 수 구하기"
   ]
  },
  {
   "cell_type": "code",
   "execution_count": 129,
   "metadata": {},
   "outputs": [],
   "source": [
    "def solution(array, commands):\n",
    "    answer = []\n",
    "    temp = []\n",
    "    for command in commands:\n",
    "        temp = array[command[0]-1:command[1]]\n",
    "        temp.sort()\n",
    "        answer.append(temp[command[2]-1])\n",
    "    return answer"
   ]
  },
  {
   "cell_type": "code",
   "execution_count": 130,
   "metadata": {},
   "outputs": [
    {
     "data": {
      "text/plain": [
       "[5, 6, 3]"
      ]
     },
     "execution_count": 130,
     "metadata": {},
     "output_type": "execute_result"
    }
   ],
   "source": [
    "array = [1,5,2,6,3,7,4]\n",
    "commands=[[2,5,3],[4,4,1],[1,7,3]]\n",
    "solution(array,commands)"
   ]
  },
  {
   "cell_type": "markdown",
   "metadata": {},
   "source": [
    "4. 모의고사"
   ]
  },
  {
   "cell_type": "markdown",
   "metadata": {},
   "source": [
    "[문제 설명]\n",
    "\n",
    "수포자는 수학을 포기한 사람의 준말입니다. 수포자 삼인방은 모의고사에 수학 문제를 전부 찍으려 합니다. \n",
    "\n",
    "수포자는 1번 문제부터 마지막 문제까지 다음과 같이 찍습니다.\n",
    "\n",
    "1번 수포자가 찍는 방식: 1, 2, 3, 4, 5, 1, 2, 3, 4, 5, ...\n",
    "\n",
    "2번 수포자가 찍는 방식: 2, 1, 2, 3, 2, 4, 2, 5, 2, 1, 2, 3, 2, 4, 2, 5, ...\n",
    "\n",
    "3번 수포자가 찍는 방식: 3, 3, 1, 1, 2, 2, 4, 4, 5, 5, 3, 3, 1, 1, 2, 2, 4, 4, 5, 5, ...\n",
    "\n",
    "1번 문제부터 마지막 문제까지의 정답이 순서대로 들은 배열 answers가 주어졌을 때, \n",
    "\n",
    "가장 많은 문제를 맞힌 사람이 누구인지 배열에 담아 return 하도록 solution 함수를 작성해주세요.\n",
    "\n",
    "[제한 조건]\n",
    "\n",
    "시험은 최대 10,000 문제로 구성되어있습니다.\n",
    "문제의 정답은 1, 2, 3, 4, 5중 하나입니다.\n",
    "가장 높은 점수를 받은 사람이 여럿일 경우, return하는 값을 오름차순 정렬해주세요."
   ]
  },
  {
   "cell_type": "code",
   "execution_count": 59,
   "metadata": {},
   "outputs": [],
   "source": [
    "from itertools import chain,repeat\n",
    "\n",
    "def solution(answers):\n",
    "    \n",
    "    answer = []\n",
    "    \n",
    "    a = [1,2,3,4,5]\n",
    "    b = [2,1,2,3,2,4,2,5]\n",
    "    c = [3,3,1,1,2,2,4,4,5,5]\n",
    "    \n",
    "    n = len(answers)\n",
    "    n_a = n//len(a) + 1\n",
    "    n_b = n//len(b) + 1\n",
    "    n_c = n//len(c) + 1\n",
    "    \n",
    "    first=list(chain.from_iterable(repeat(a, n_a)))\n",
    "    second=list(chain.from_iterable(repeat(b, n_b)))\n",
    "    third=list(chain.from_iterable(repeat(c, n_c)))\n",
    "    \n",
    "    count_a = 0\n",
    "    count_b = 0\n",
    "    count_c = 0\n",
    "    \n",
    "    for i in range(n):\n",
    "        if first[i]==answers[i]:\n",
    "            count_a+=1\n",
    "        if second[i]==answers[i]:\n",
    "            count_b+=1\n",
    "        if third[i]==answers[i]:\n",
    "            count_c+=1\n",
    "            \n",
    "    score= [count_a,count_b,count_c]\n",
    "            \n",
    "    for j in range(len(score)):\n",
    "        if score[j]==max(score):\n",
    "            answer.append(j+1)\n",
    "    return answer"
   ]
  },
  {
   "cell_type": "code",
   "execution_count": 61,
   "metadata": {},
   "outputs": [
    {
     "data": {
      "text/plain": [
       "[1, 2, 3]"
      ]
     },
     "execution_count": 61,
     "metadata": {},
     "output_type": "execute_result"
    }
   ],
   "source": [
    "answers = [1,3,2,4,2]\n",
    "solution(answers)"
   ]
  },
  {
   "cell_type": "code",
   "execution_count": null,
   "metadata": {},
   "outputs": [],
   "source": [
    "#모범 답안\n",
    "def solution(answers):\n",
    "    pattern1 = [1,2,3,4,5]\n",
    "    pattern2 = [2,1,2,3,2,4,2,5]\n",
    "    pattern3 = [3,3,1,1,2,2,4,4,5,5]\n",
    "    score = [0, 0, 0]\n",
    "    result = []\n",
    "\n",
    "    for idx, answer in enumerate(answers):\n",
    "        if answer == pattern1[idx%len(pattern1)]:\n",
    "            score[0] += 1\n",
    "        if answer == pattern2[idx%len(pattern2)]:\n",
    "            score[1] += 1\n",
    "        if answer == pattern3[idx%len(pattern3)]:\n",
    "            score[2] += 1\n",
    "\n",
    "    for idx, s in enumerate(score):\n",
    "        if s == max(score):\n",
    "            result.append(idx+1)\n",
    "\n",
    "    return result"
   ]
  },
  {
   "cell_type": "markdown",
   "metadata": {},
   "source": [
    "6. 체육복"
   ]
  },
  {
   "cell_type": "markdown",
   "metadata": {},
   "source": [
    "[문제 설명]\n",
    "\n",
    "점심시간에 도둑이 들어, 일부 학생이 체육복을 도난당했습니다. 다행히 여벌 체육복이 있는 학생이 이들에게 체육복을 빌려주려 합니다. \n",
    "\n",
    "학생들의 번호는 체격 순으로 매겨져 있어, 바로 앞번호의 학생이나 바로 뒷번호의 학생에게만 체육복을 빌려줄 수 있습니다. \n",
    "\n",
    "예를 들어, 4번 학생은 3번 학생이나 5번 학생에게만 체육복을 빌려줄 수 있습니다. \n",
    "\n",
    "체육복이 없으면 수업을 들을 수 없기 때문에 체육복을 적절히 빌려 최대한 많은 학생이 체육수업을 들어야 합니다.\n",
    "\n",
    "전체 학생의 수 n, 체육복을 도난당한 학생들의 번호가 담긴 배열 lost, \n",
    "\n",
    "여벌의 체육복을 가져온 학생들의 번호가 담긴 배열 reserve가 매개변수로 주어질 때, \n",
    "\n",
    "체육수업을 들을 수 있는 학생의 최댓값을 return 하도록 solution 함수를 작성해주세요."
   ]
  },
  {
   "cell_type": "code",
   "execution_count": 5,
   "metadata": {},
   "outputs": [],
   "source": [
    "#시도 1 - 실패 정답률 33퍼\n",
    "def solution(n, lost, reserve):\n",
    "    answer = 0\n",
    "    ready = n-len(lost)\n",
    "    \n",
    "    reserve_m = [0]*len(reserve)\n",
    "    \n",
    "    for i in range(len(reserve)):\n",
    "        reserve_m[i]=reserve[i]+1\n",
    "    \n",
    "    \n",
    "    borrow = list(set(lost)&set(reserve_m))                  #교집합 찾기\n",
    "    answer=ready+len(borrow)\n",
    "    return answer"
   ]
  },
  {
   "cell_type": "code",
   "execution_count": 18,
   "metadata": {},
   "outputs": [],
   "source": [
    "#시도 2 - 실패 정답률 40퍼\n",
    "def solution(n, lost, reserve):\n",
    "    answer = 0\n",
    "    ready = n-len(lost)\n",
    "    \n",
    "    reserve_p = [0]*len(reserve)\n",
    "    reserve_m = [0]*len(reserve)\n",
    "    \n",
    "    for i in range(len(reserve)):\n",
    "        reserve_p[i]=reserve[i]+1\n",
    "        \n",
    "    for j in range(len(reserve)):\n",
    "        reserve_m[j]=reserve[j]-1\n",
    "    \n",
    "    reserve_i = list(set(reserve_p)|set(reserve_m))         #리스트 합집합\n",
    "    \n",
    "    borrow = list(set(lost)&set(reserve_i))                  #교집합 찾기\n",
    "    answer=ready+len(borrow)\n",
    "    return answer"
   ]
  },
  {
   "cell_type": "code",
   "execution_count": 36,
   "metadata": {},
   "outputs": [],
   "source": [
    "# 정답코드\n",
    "def solution(n,lost,reserve):\n",
    "    answer = 0\n",
    "    count = list(set(lost)&set(reserve))\n",
    "    lost2 = list(set(lost)-set(reserve))\n",
    "    reserve2 = list(set(reserve)-set(lost))\n",
    "    \n",
    "    for i in lost2:\n",
    "        if (i+1 in reserve2):\n",
    "            count.append(i)\n",
    "            reserve2.remove(i+1)\n",
    "        elif (i-1 in reserve2):\n",
    "            count.append(i)\n",
    "            reserve2.remove(i-1)\n",
    "    answer = n-len(lost)+len(count)\n",
    "    return answer"
   ]
  },
  {
   "cell_type": "code",
   "execution_count": 37,
   "metadata": {},
   "outputs": [
    {
     "data": {
      "text/plain": [
       "5"
      ]
     },
     "execution_count": 37,
     "metadata": {},
     "output_type": "execute_result"
    }
   ],
   "source": [
    "n = 5\n",
    "lost = [2,4]\n",
    "reserve = [1,3,5]\n",
    "solution(n,lost,reserve)"
   ]
  },
  {
   "cell_type": "code",
   "execution_count": 38,
   "metadata": {},
   "outputs": [
    {
     "data": {
      "text/plain": [
       "3"
      ]
     },
     "execution_count": 38,
     "metadata": {},
     "output_type": "execute_result"
    }
   ],
   "source": [
    "n = 3\n",
    "lost =[2]\n",
    "reserve = [3]\n",
    "solution(n,lost,reserve)"
   ]
  }
 ],
 "metadata": {
  "kernelspec": {
   "display_name": "Python 3",
   "language": "python",
   "name": "python3"
  },
  "language_info": {
   "codemirror_mode": {
    "name": "ipython",
    "version": 3
   },
   "file_extension": ".py",
   "mimetype": "text/x-python",
   "name": "python",
   "nbconvert_exporter": "python",
   "pygments_lexer": "ipython3",
   "version": "3.6.5"
  }
 },
 "nbformat": 4,
 "nbformat_minor": 2
}
