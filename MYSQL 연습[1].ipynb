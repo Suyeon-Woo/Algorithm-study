{
 "cells": [
  {
   "cell_type": "markdown",
   "metadata": {},
   "source": [
    "SQL문 기본 문제 - 유형별 연습(1) SELECT,SUM&MIN&MAX, GROUP BY\n",
    "\n",
    "문제 출처 : https://programmers.co.kr/learn/challenges?tab=sql_practice_kit"
   ]
  },
  {
   "cell_type": "markdown",
   "metadata": {},
   "source": [
    "# [1] SELECT"
   ]
  },
  {
   "cell_type": "markdown",
   "metadata": {},
   "source": [
    "1.모든 레코드 조회하기\n",
    "  동물 보호소에 들어온 모든 동물의 정보를 ANIMAL_ID순으로 조회하는 SQL문을 작성해주세요. SQL을 실행하면 다음과 같이 출력되어야 합니다."
   ]
  },
  {
   "cell_type": "markdown",
   "metadata": {},
   "source": [
    "SELECT *\n",
    "FROM ANIMAL_INS\n",
    "ORDER BY ANIMAL_ID"
   ]
  },
  {
   "cell_type": "markdown",
   "metadata": {},
   "source": [
    "2. 동물 보호소에 들어온 모든 동물의 이름과 보호 시작일을 조회하는 SQL문을 작성해주세요. \n",
    "   이때 결과는 ANIMAL_ID 역순으로 보여주세요. "
   ]
  },
  {
   "cell_type": "markdown",
   "metadata": {},
   "source": [
    "SELECT NAME, DATETIME\n",
    "FROM ANIMAL_INS\n",
    "ORDER BY ANIMAL_ID DESC               #뒤에 DESC하면 역순정렬, ASC가 default"
   ]
  },
  {
   "cell_type": "markdown",
   "metadata": {},
   "source": [
    "3. 동물 보호소에 들어온 동물 중 아픈 동물1의 아이디와 이름을 조회하는 SQL 문을 작성해주세요.\n",
    "   이때 결과는 아이디 순으로 조회해주세요."
   ]
  },
  {
   "cell_type": "markdown",
   "metadata": {},
   "source": [
    "SELECT ANIMAL_ID, NAME\n",
    "FROM ANIMAL_INS\n",
    "WHERE INTAKE_CONDITION='Sick'\n",
    "ORDER BY ANIMAL_ID"
   ]
  },
  {
   "cell_type": "markdown",
   "metadata": {},
   "source": [
    "4. 동물 보호소에 들어온 동물 중 젊은 동물1의 아이디와 이름을 조회하는 SQL 문을 작성해주세요. \n",
    "   이때 결과는 아이디 순으로 조회해주세요. \n",
    "   INTAKE_CONDITION이 Aged가 아닌 경우를 뜻함"
   ]
  },
  {
   "cell_type": "markdown",
   "metadata": {},
   "source": [
    "SELECT ANIMAL_ID, NAME\n",
    "FROM ANIMAL_INS\n",
    "WHERE INTAKE_CONDITION != 'Aged'"
   ]
  },
  {
   "cell_type": "markdown",
   "metadata": {},
   "source": [
    "5. 상위 N개 레코드 가져오기\n",
    "   동물 보호소에 가장 먼저 들어온 동물의 이름을 조회하는 SQL 문을 작성해주세요."
   ]
  },
  {
   "cell_type": "markdown",
   "metadata": {},
   "source": [
    "SELECT NAME\n",
    "FROM ANIMAL_INS\n",
    "ORDER BY DATETIME\n",
    "LIMIT 1\n",
    "\n",
    "#LIMIT을 넣어서 제일 위 하나의 행만 조회한다"
   ]
  },
  {
   "cell_type": "markdown",
   "metadata": {},
   "source": [
    "# [2] SUM, MAX, MIN"
   ]
  },
  {
   "cell_type": "markdown",
   "metadata": {},
   "source": [
    "동물 보호소에 동물이 몇 마리 들어왔는지 조회하는 SQL 문을 작성해주세요."
   ]
  },
  {
   "cell_type": "markdown",
   "metadata": {},
   "source": [
    "SELECT COUNT(*) AS count\n",
    "FROM ANIMAL_INS"
   ]
  },
  {
   "cell_type": "markdown",
   "metadata": {},
   "source": [
    "동물 보호소에 들어온 동물의 이름은 몇 개인지 조회하는 SQL 문을 작성해주세요. \n",
    "이때 이름이 NULL인 경우는 집계하지 않으며 중복되는 이름은 하나로 칩니다."
   ]
  },
  {
   "cell_type": "markdown",
   "metadata": {},
   "source": [
    "SELECT COUNT(DISTINCT NAME) AS count\n",
    "FROM ANIMAL_INS\n",
    "WHERE NAME IS NOT NULL"
   ]
  },
  {
   "cell_type": "markdown",
   "metadata": {},
   "source": [
    "# [3] GROUP BY"
   ]
  },
  {
   "cell_type": "markdown",
   "metadata": {},
   "source": [
    "1. 동물 보호소에 들어온 동물 중 고양이와 개가 각각 몇 마리인지 조회하는 SQL문을 작성해주세요. \n",
    "   이때 고양이를 개보다 먼저 조회해주세요."
   ]
  },
  {
   "cell_type": "markdown",
   "metadata": {},
   "source": [
    "SELECT ANIMAL_TYPE, COUNT(*) AS count\n",
    "FROM ANIMAL_INS\n",
    "GROUP BY ANIMAL_TYPE\n",
    "ORDER BY ANIMAL_TYPE"
   ]
  },
  {
   "cell_type": "markdown",
   "metadata": {},
   "source": [
    "2. 동명 동물 수 찾기.\n",
    "   NAME이 NULL인 동물은 제외하고 출력\n",
    "   NAME에 대한 오름차순 정렬로 결과 얻기\n",
    "   #한번 더 연습해보기"
   ]
  },
  {
   "cell_type": "markdown",
   "metadata": {},
   "source": [
    "SELECT NAME, COUNT(*)\n",
    "FROM ANIMAL_INS\n",
    "WHERE NAME IS NOT NULL\n",
    "GROUP BY NAME\n",
    "HAVING COUNT(NAME)>=2\n",
    "ORDER BY NAME"
   ]
  },
  {
   "cell_type": "markdown",
   "metadata": {},
   "source": [
    "3. 보호소에서는 몇 시에 입양이 가장 활발하게 일어나는지 알아보려 합니다. \n",
    "   09:00부터 19:59까지, 각 시간대별로 입양이 몇 건이나 발생했는지 조회하는 SQL문을 작성해주세요. \n",
    "   이때 결과는 시간대 순으로 정렬해야 합니다."
   ]
  },
  {
   "cell_type": "markdown",
   "metadata": {},
   "source": [
    "먼저 DATETIME에서 시간만을 추출해 그를 HOUR변수로 저장하고, HOUR변수값에 대해 COUNT해주어야 한다.\n",
    "SELECT HOUR(DATETIME) AS HOUR , COUNT(DATETIME) AS COUNT\n",
    "FROM ANIMAL_OUTS\n",
    "WHERE HOUR(DATETIME)>=9 AND HOUR(DATETIME)<=19\n",
    "GROUP BY HOUR(DATETIME)\n",
    "ORDER BY HOUR(DATETIME)"
   ]
  },
  {
   "cell_type": "markdown",
   "metadata": {},
   "source": [
    "4. 보호소에서는 몇 시에 입양이 가장 활발하게 일어나는지 알아보려 합니다. \n",
    "   0시부터 23시까지, 각 시간대별로 입양이 몇 건이나 발생했는지 조회하는 SQL문을 작성해주세요. \n",
    "   이때 결과는 시간대 순으로 정렬해야 합니다."
   ]
  },
  {
   "cell_type": "markdown",
   "metadata": {},
   "source": [
    "SELECT HOUR(DATETIME) AS HOUR, COUNT(DATETIME) AS COUNT\n",
    "FROM ANIMAL_OUTS\n",
    "GROUP BY HOUR(DATETIME)\n",
    "ORDER BY HOUR(DATETIME)\n",
    "이렇게 하면 COUNT=0인 시간대는 출력되지 않는다.\n",
    "논의해볼 문제\n",
    "답지에서는 SET을 활용했는데 기업 SQL문제에서 SET을 활용하는 문제는 잘 나오지 않는다고 함.."
   ]
  },
  {
   "cell_type": "markdown",
   "metadata": {},
   "source": [
    "#참고용 답\n",
    "SET @HOUR_LIST = -1; \n",
    "SELECT \n",
    "    (@HOUR_LIST := @HOUR_LIST + 1) AS 'HOUR',\n",
    "    (SELECT COUNT(*) \n",
    "     FROM ANIMAL_OUTS \n",
    "     WHERE HOUR(DATETIME) = @HOUR_LIST) AS 'COUNTS' \n",
    "FROM ANIMAL_OUTS \n",
    "WHERE @HOUR_LIST <23;"
   ]
  }
 ],
 "metadata": {
  "kernelspec": {
   "display_name": "Python 3",
   "language": "python",
   "name": "python3"
  },
  "language_info": {
   "codemirror_mode": {
    "name": "ipython",
    "version": 3
   },
   "file_extension": ".py",
   "mimetype": "text/x-python",
   "name": "python",
   "nbconvert_exporter": "python",
   "pygments_lexer": "ipython3",
   "version": "3.6.5"
  }
 },
 "nbformat": 4,
 "nbformat_minor": 2
}
