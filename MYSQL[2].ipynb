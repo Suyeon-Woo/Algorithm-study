{
 "cells": [
  {
   "cell_type": "markdown",
   "metadata": {},
   "source": [
    "# [4] ISNULL"
   ]
  },
  {
   "cell_type": "code",
   "execution_count": null,
   "metadata": {},
   "outputs": [],
   "source": [
    "#이름이 없는 동물의 ID 출력하기"
   ]
  },
  {
   "cell_type": "code",
   "execution_count": null,
   "metadata": {},
   "outputs": [],
   "source": [
    "SELECT ANIMAL_ID\n",
    "FROM ANIMAL_INS\n",
    "WHERE NAME IS NULL"
   ]
  },
  {
   "cell_type": "code",
   "execution_count": null,
   "metadata": {},
   "outputs": [],
   "source": [
    "#null값을 갖는 개체에 no name 부여하기"
   ]
  },
  {
   "cell_type": "code",
   "execution_count": null,
   "metadata": {},
   "outputs": [],
   "source": [
    "SELECT ANIMAL_TYPE, IFNULL(NAME,\"No name\"), SEX_UPON_INTAKE\n",
    "FROM ANIMAL_INS"
   ]
  },
  {
   "cell_type": "markdown",
   "metadata": {},
   "source": [
    "# [5] JOIN"
   ]
  },
  {
   "cell_type": "code",
   "execution_count": null,
   "metadata": {},
   "outputs": [],
   "source": [
    "https://yoo-hyeok.tistory.com/98 \n",
    "이미지 참고하기."
   ]
  },
  {
   "cell_type": "code",
   "execution_count": null,
   "metadata": {},
   "outputs": [],
   "source": [
    "이 문제를 풀기전에 합집합, 교집합, 차집합 쿼리를 정리해보고자 한다. "
   ]
  },
  {
   "cell_type": "code",
   "execution_count": null,
   "metadata": {},
   "outputs": [],
   "source": [
    "#합집합\n",
    "SELECT TABLEA.ID AS ID, TABLEA.NAME AS NAME\n",
    "FROM TABLEA\n",
    "UNION\n",
    "SELECT TABLEB.ID AS ID, TABLEB.NAME AS NAME\n",
    "FROM TABLEB"
   ]
  },
  {
   "cell_type": "code",
   "execution_count": null,
   "metadata": {},
   "outputs": [],
   "source": [
    "#교집합\n",
    "SELECT TABLEA.ID, TABLEA.NAME, TABLEB.NAME\n",
    "FROM TABLEA LEFT JOIN TABLEB\n",
    "ON TABLEA.ID=TABLEB.ID                                   #두개의 TABLE ID를 기준으로 교집합을 찾고싶음\n",
    "WHERE TABLEB.ID IS NOT NULL                              #A와 B 모두에 속하는 집합을 찾기 위해"
   ]
  },
  {
   "cell_type": "code",
   "execution_count": null,
   "metadata": {},
   "outputs": [],
   "source": [
    "#차집합\n",
    "SELECT TABLEA.ID, TABLEA.NAME\n",
    "FROM TABLEA LEFT JOIN TABLEB\n",
    "ON TABLEA.ID = TABLEB.ID\n",
    "WHERE TABLEB.ID IS NULL                                     #A에만 속하는 집합을 찾고 싶어서"
   ]
  },
  {
   "cell_type": "code",
   "execution_count": null,
   "metadata": {},
   "outputs": [],
   "source": [
    "1.없어진 기록 찾기"
   ]
  },
  {
   "cell_type": "code",
   "execution_count": null,
   "metadata": {},
   "outputs": [],
   "source": [
    "천재지변으로 인해 일부 데이터가 유실되었습니다. \n",
    "입양을 간 기록은 있는데, 보호소에 들어온 기록이 없는 동물의 ID와 이름을 ID 순으로 조회하는 SQL문을 작성해주세요.\n",
    "즉 ANIMAL_INS에는 NAME이 있는데 ANIMAL_OUTS에는 NAME이 없는 집합을 출력하기 (차집합 출력)"
   ]
  },
  {
   "cell_type": "code",
   "execution_count": null,
   "metadata": {},
   "outputs": [],
   "source": [
    "#ID 변수에 대해 OUTS에만 존재하는 집합 출력 (OUTS-INS)\n",
    "SELECT ANIMAL_OUTS.ANIMAL_ID, ANIMAL_OUTS.NAME\n",
    "FROM ANIMAL_INS RIGHT JOIN ANIMAL_OUTS\n",
    "ON ANIMAL_INS.ANIMAL_ID = ANIMAL_OUTS.ANIMAL_ID\n",
    "WHERE ANIMAL_INS.ANIMAL_ID IS NULL"
   ]
  },
  {
   "cell_type": "code",
   "execution_count": null,
   "metadata": {},
   "outputs": [],
   "source": [
    "2. 있었는데요 없었습니다"
   ]
  },
  {
   "cell_type": "code",
   "execution_count": null,
   "metadata": {},
   "outputs": [],
   "source": [
    "# ANIMAL_INS의 DATETIME보다 ANIMAL_OUTS의 DATETIME이 더 이르면 오류로 판단해\n",
    "# 이러한 오류가 있는 ANIMAL_ID를 출력하기\n",
    "SELECT ANIMAL_INS.ANIMAL_ID, ANIMAL_INS.NAME\n",
    "FROM ANIMAL_INS JOIN ANIMAL_OUTS\n",
    "ON ANIMAL_INS.ANIMAL_ID = ANIMAL_OUTS.ANIMAL_ID\n",
    "WHERE ANIMAL_INS.DATETIME > ANIMAL_OUTS.DATETIME\n",
    "ORDER BY ANIMAL_INS.DATETIME"
   ]
  },
  {
   "cell_type": "code",
   "execution_count": null,
   "metadata": {},
   "outputs": [],
   "source": [
    "3. 보호기간이 가장 긴 동물"
   ]
  },
  {
   "cell_type": "code",
   "execution_count": null,
   "metadata": {},
   "outputs": [],
   "source": [
    "#INS에는 있지만 OUTS에는 없는 동물 중, \n",
    "#INS의 DATETIME이 가장 빠른 순서로 3마리만 출력\n",
    "SELECT ANIMAL_INS.NAME, ANIMAL_INS.DATETIME\n",
    "FROM ANIMAL_INS LEFT JOIN ANIMAL_OUTS\n",
    "ON ANIMAL_INS.ANIMAL_ID = ANIMAL_OUTS.ANIMAL_ID\n",
    "WHERE ANIMAL_OUTS.ANIMAL_ID IS NULL\n",
    "ORDER BY ANIMAL_INS.DATETIME\n",
    "LIMIT 3"
   ]
  },
  {
   "cell_type": "code",
   "execution_count": null,
   "metadata": {},
   "outputs": [],
   "source": [
    "4. 중성화를 거친 동물"
   ]
  },
  {
   "cell_type": "code",
   "execution_count": null,
   "metadata": {},
   "outputs": [],
   "source": [
    "#보호소에서 중성화 수술을 거친 동물 정보를 알아보려 합니다. \n",
    "#보호소에 들어올 당시에는 중성화되지 않았지만, 보호소를 나갈 당시에는 \n",
    "#중성화된 동물의 아이디와 생물 종, 이름을 아이디 순으로 조회하는\n",
    "#SQL 문을 작성해주세요.\n",
    "#INS에서는 Intact가 포함되어 있고 OUTS에는 Spayed 또는 Neutered가 포함된 동물조회\n",
    "SELECT ANIMAL_INS.ANIMAL_ID, ANIMAL_INS.ANIMAL_TYPE, ANIMAL_INS.NAME\n",
    "FROM ANIMAL_INS JOIN ANIMAL_OUTS\n",
    "ON ANIMAL_INS.ANIMAL_ID = ANIMAL_OUTS.ANIMAL_ID\n",
    "WHERE ANIMAL_INS.SEX_UPON_INTAKE LIKE \"%Intact%\" \n",
    "AND ANIMAL_OUTS.SEX_UPON_OUTCOME NOT LIKE \"%Intact%\"\n",
    "ORDER BY ANIMAL_ID"
   ]
  },
  {
   "cell_type": "markdown",
   "metadata": {},
   "source": [
    "# [6] String, Date"
   ]
  },
  {
   "cell_type": "code",
   "execution_count": null,
   "metadata": {},
   "outputs": [],
   "source": [
    "1. 동물 이름 찾기"
   ]
  },
  {
   "cell_type": "code",
   "execution_count": null,
   "metadata": {},
   "outputs": [],
   "source": [
    "#동물 보호소에 들어온 동물 중 이름이 Lucy, Ella, Pickle, Rogan, Sabrina, Mitty인 \n",
    "#동물의 아이디와 이름, 성별 및 중성화 여부를 조회하는 SQL 문을 작성해주세요.\n",
    "SELECT ANIMAL_ID, NAME, SEX_UPON_INTAKE\n",
    "FROM ANIMAL_INS\n",
    "WHERE NAME IN (\"Lucy\", \"Ella\", \"Pickle\", \"Rogan\", \"Sabrina\", \"Mitty\")\n",
    "ORDER BY ANIMAL_ID"
   ]
  },
  {
   "cell_type": "code",
   "execution_count": null,
   "metadata": {},
   "outputs": [],
   "source": [
    "2. 이름에 EL이 들어가는 동물 찾기"
   ]
  },
  {
   "cell_type": "code",
   "execution_count": null,
   "metadata": {},
   "outputs": [],
   "source": [
    "#동물 보호소에 들어온 동물 이름 중, 이름에 EL이 들어가는 개의 \n",
    "#아이디와 이름을 조회하는 SQL문을 작성해주세요.\n",
    "#이때 결과는 이름 순으로 조회해주세요. 단, 이름의 대소문자는 구분하지 않습니다.\n",
    "\n",
    "SELECT ANIMAL_ID, NAME\n",
    "FROM ANIMAL_INS\n",
    "WHERE NAME LIKE \"%EL%\" AND ANIMAL_TYPE=\"Dog\"\n",
    "ORDER BY NAME"
   ]
  },
  {
   "cell_type": "code",
   "execution_count": null,
   "metadata": {},
   "outputs": [],
   "source": [
    "3. 중성화여부에 대한 변수만들기 (CASE-WHEN-THEN구문)"
   ]
  },
  {
   "cell_type": "code",
   "execution_count": null,
   "metadata": {},
   "outputs": [],
   "source": [
    "#중성화여부를 파악 중성화되어있다면 O, 아니면 X로 표시하기\n",
    "SELECT ANIMAL_ID, NAME,\n",
    "  (CASE SEX_UPON_INTAKE\n",
    "  WHEN 'Intact Male' THEN 'X'\n",
    "  WHEN 'Intact Female' THEN 'X' ELSE 'O' END) AS '중성화'\n",
    "FROM ANIMAL_INS\n",
    "ORDER BY ANIMAL_ID"
   ]
  },
  {
   "cell_type": "code",
   "execution_count": null,
   "metadata": {},
   "outputs": [],
   "source": [
    "4. 보호기간이 긴 순서대로 출력"
   ]
  },
  {
   "cell_type": "code",
   "execution_count": null,
   "metadata": {},
   "outputs": [],
   "source": [
    "#보호기간이 가장 긴 동물 2마리 출력\n",
    "SELECT INS.ANIMAL_ID, INS.NAME\n",
    "FROM ANIMAL_INS AS INS, ANIMAL_OUTS AS OUTS\n",
    "WHERE INS.ANIMAL_ID = OUTS.ANIMAL_ID\n",
    "ORDER BY OUTS.DATETIME - INS.DATETIME DESC\n",
    "LIMIT 2;"
   ]
  },
  {
   "cell_type": "code",
   "execution_count": null,
   "metadata": {},
   "outputs": [],
   "source": [
    "5. 들어온 날짜 조회하기 - DATE_FORMAT"
   ]
  },
  {
   "cell_type": "code",
   "execution_count": null,
   "metadata": {},
   "outputs": [],
   "source": [
    "#ANIMAL_INS 테이블에 등록된 모든 레코드에 대해, \n",
    "#각 동물의 아이디와 이름, 들어온 날짜1를 조회하는 SQL문을 작성해주세요. \n",
    "#이때 결과는 아이디 순으로 조회해야 합니다.\n",
    "\n",
    "SELECT ANIMAL_ID, NAME,DATE_FORMAT(DATETIME, '%Y-%m-%d') AS '날짜'\n",
    "FROM ANIMAL_INS\n",
    "ORDER BY ANIMAL_ID;"
   ]
  }
 ],
 "metadata": {
  "kernelspec": {
   "display_name": "Python 3",
   "language": "python",
   "name": "python3"
  },
  "language_info": {
   "codemirror_mode": {
    "name": "ipython",
    "version": 3
   },
   "file_extension": ".py",
   "mimetype": "text/x-python",
   "name": "python",
   "nbconvert_exporter": "python",
   "pygments_lexer": "ipython3",
   "version": "3.6.5"
  }
 },
 "nbformat": 4,
 "nbformat_minor": 2
}
